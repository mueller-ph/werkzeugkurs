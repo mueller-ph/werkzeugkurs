{
 "cells": [
  {
   "cell_type": "code",
   "execution_count": null,
   "metadata": {
    "collapsed": false
   },
   "outputs": [],
   "source": [
    "import numpy as np\n",
    "import pylab as pl\n",
    "import math\n",
    "\n",
    "length = 1000000\n",
    "\n",
    "drake=np.random.random([length,2])\n",
    "\n",
    "index = 0\n",
    "counter = 0.0\n",
    "\n",
    "for i in range(length)\n",
    "    radius = math.sqrt(drake[index,0]**2 + drake[index,1]**2)\n",
    "    #print radius\n",
    "    if(radius<=1):\n",
    "        counter = counter+1.0\n",
    "    #print counter\n",
    "    index = index+1\n",
    "result = (counter/length)\n",
    "print result*4"
   ]
  },
  {
   "cell_type": "code",
   "execution_count": null,
   "metadata": {
    "collapsed": true
   },
   "outputs": [],
   "source": []
  }
 ],
 "metadata": {
  "kernelspec": {
   "display_name": "Python 2",
   "language": "python",
   "name": "python2"
  },
  "language_info": {
   "codemirror_mode": {
    "name": "ipython",
    "version": 2
   },
   "file_extension": ".py",
   "mimetype": "text/x-python",
   "name": "python",
   "nbconvert_exporter": "python",
   "pygments_lexer": "ipython2",
   "version": "2.7.12"
  }
 },
 "nbformat": 4,
 "nbformat_minor": 2
}
