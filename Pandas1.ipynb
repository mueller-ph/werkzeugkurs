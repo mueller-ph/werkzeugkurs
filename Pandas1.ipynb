{
 "cells": [
  {
   "cell_type": "code",
   "execution_count": 6,
   "metadata": {
    "collapsed": false
   },
   "outputs": [
    {
     "data": {
      "text/html": [
       "<div>\n",
       "<table border=\"1\" class=\"dataframe\">\n",
       "  <thead>\n",
       "    <tr style=\"text-align: right;\">\n",
       "      <th></th>\n",
       "      <th>A</th>\n",
       "      <th>B</th>\n",
       "      <th>C</th>\n",
       "      <th>D</th>\n",
       "    </tr>\n",
       "  </thead>\n",
       "  <tbody>\n",
       "    <tr>\n",
       "      <th>2013-01-01</th>\n",
       "      <td>2.259295</td>\n",
       "      <td>-0.094793</td>\n",
       "      <td>-0.824042</td>\n",
       "      <td>0.525418</td>\n",
       "    </tr>\n",
       "    <tr>\n",
       "      <th>2013-01-02</th>\n",
       "      <td>0.231604</td>\n",
       "      <td>-0.411230</td>\n",
       "      <td>0.216897</td>\n",
       "      <td>-0.220483</td>\n",
       "    </tr>\n",
       "    <tr>\n",
       "      <th>2013-01-03</th>\n",
       "      <td>0.110540</td>\n",
       "      <td>-0.177922</td>\n",
       "      <td>1.920718</td>\n",
       "      <td>1.450786</td>\n",
       "    </tr>\n",
       "    <tr>\n",
       "      <th>2013-01-04</th>\n",
       "      <td>1.292583</td>\n",
       "      <td>0.724178</td>\n",
       "      <td>0.795639</td>\n",
       "      <td>0.764529</td>\n",
       "    </tr>\n",
       "    <tr>\n",
       "      <th>2013-01-05</th>\n",
       "      <td>1.934495</td>\n",
       "      <td>-0.290224</td>\n",
       "      <td>-0.194910</td>\n",
       "      <td>0.605992</td>\n",
       "    </tr>\n",
       "    <tr>\n",
       "      <th>2013-01-06</th>\n",
       "      <td>-0.711223</td>\n",
       "      <td>-0.235563</td>\n",
       "      <td>-0.207474</td>\n",
       "      <td>-0.384440</td>\n",
       "    </tr>\n",
       "  </tbody>\n",
       "</table>\n",
       "</div>"
      ],
      "text/plain": [
       "                   A         B         C         D\n",
       "2013-01-01  2.259295 -0.094793 -0.824042  0.525418\n",
       "2013-01-02  0.231604 -0.411230  0.216897 -0.220483\n",
       "2013-01-03  0.110540 -0.177922  1.920718  1.450786\n",
       "2013-01-04  1.292583  0.724178  0.795639  0.764529\n",
       "2013-01-05  1.934495 -0.290224 -0.194910  0.605992\n",
       "2013-01-06 -0.711223 -0.235563 -0.207474 -0.384440"
      ]
     },
     "execution_count": 6,
     "metadata": {},
     "output_type": "execute_result"
    }
   ],
   "source": [
    "import pandas as pd\n",
    "import numpy as np\n",
    "import matplotlib.pyplot as plt\n",
    "\n",
    "dates = pd.date_range('20130101', periods=6)\n",
    "df = pd.DataFrame(np.random.randn(6,4), index=dates, columns=list('ABCD'))\n",
    "df"
   ]
  },
  {
   "cell_type": "code",
   "execution_count": 7,
   "metadata": {
    "collapsed": true
   },
   "outputs": [],
   "source": [
    "df2 = pd.DataFrame({ 'A' : 1.,\n",
    "   ....: 'B' : pd.Timestamp('20130102'),\n",
    "   ....: 'C' : pd.Series(1,index=list(range(4)),dtype='float32'),\n",
    "   ....: 'D' : np.array([3] * 4,dtype='int32'),\n",
    "   ....: 'E' : pd.Categorical([\"test\",\"train\",\"test\",\"train\"]),\n",
    "   ....: 'F' : 'foo' })"
   ]
  },
  {
   "cell_type": "code",
   "execution_count": 8,
   "metadata": {
    "collapsed": false
   },
   "outputs": [
    {
     "data": {
      "text/html": [
       "<div>\n",
       "<table border=\"1\" class=\"dataframe\">\n",
       "  <thead>\n",
       "    <tr style=\"text-align: right;\">\n",
       "      <th></th>\n",
       "      <th>A</th>\n",
       "      <th>B</th>\n",
       "      <th>C</th>\n",
       "      <th>D</th>\n",
       "      <th>E</th>\n",
       "      <th>F</th>\n",
       "    </tr>\n",
       "  </thead>\n",
       "  <tbody>\n",
       "    <tr>\n",
       "      <th>0</th>\n",
       "      <td>1</td>\n",
       "      <td>2013-01-02</td>\n",
       "      <td>1</td>\n",
       "      <td>3</td>\n",
       "      <td>test</td>\n",
       "      <td>foo</td>\n",
       "    </tr>\n",
       "    <tr>\n",
       "      <th>1</th>\n",
       "      <td>1</td>\n",
       "      <td>2013-01-02</td>\n",
       "      <td>1</td>\n",
       "      <td>3</td>\n",
       "      <td>train</td>\n",
       "      <td>foo</td>\n",
       "    </tr>\n",
       "    <tr>\n",
       "      <th>2</th>\n",
       "      <td>1</td>\n",
       "      <td>2013-01-02</td>\n",
       "      <td>1</td>\n",
       "      <td>3</td>\n",
       "      <td>test</td>\n",
       "      <td>foo</td>\n",
       "    </tr>\n",
       "    <tr>\n",
       "      <th>3</th>\n",
       "      <td>1</td>\n",
       "      <td>2013-01-02</td>\n",
       "      <td>1</td>\n",
       "      <td>3</td>\n",
       "      <td>train</td>\n",
       "      <td>foo</td>\n",
       "    </tr>\n",
       "  </tbody>\n",
       "</table>\n",
       "</div>"
      ],
      "text/plain": [
       "   A          B  C  D      E    F\n",
       "0  1 2013-01-02  1  3   test  foo\n",
       "1  1 2013-01-02  1  3  train  foo\n",
       "2  1 2013-01-02  1  3   test  foo\n",
       "3  1 2013-01-02  1  3  train  foo"
      ]
     },
     "execution_count": 8,
     "metadata": {},
     "output_type": "execute_result"
    }
   ],
   "source": [
    "df2"
   ]
  },
  {
   "cell_type": "code",
   "execution_count": 9,
   "metadata": {
    "collapsed": false,
    "scrolled": true
   },
   "outputs": [
    {
     "name": "stdout",
     "output_type": "stream",
     "text": [
      "Index([u'Index', u' \"Eruption length (mins)\"', u'Eruption wait (mins)'], dtype='object')\n",
      "0      79\n",
      "1      54\n",
      "2      74\n",
      "3      62\n",
      "4      85\n",
      "5      55\n",
      "6      88\n",
      "7      85\n",
      "8      51\n",
      "9      85\n",
      "10     54\n",
      "11     84\n",
      "12     78\n",
      "13     47\n",
      "14     83\n",
      "15     52\n",
      "16     62\n",
      "17     84\n",
      "18     52\n",
      "19     79\n",
      "20     51\n",
      "21     47\n",
      "22     78\n",
      "23     69\n",
      "24     74\n",
      "25     83\n",
      "26     55\n",
      "27     76\n",
      "28     78\n",
      "29     79\n",
      "       ..\n",
      "242    86\n",
      "243    63\n",
      "244    85\n",
      "245    82\n",
      "246    57\n",
      "247    82\n",
      "248    67\n",
      "249    74\n",
      "250    54\n",
      "251    83\n",
      "252    73\n",
      "253    73\n",
      "254    88\n",
      "255    80\n",
      "256    71\n",
      "257    83\n",
      "258    56\n",
      "259    79\n",
      "260    78\n",
      "261    84\n",
      "262    58\n",
      "263    83\n",
      "264    43\n",
      "265    60\n",
      "266    75\n",
      "267    81\n",
      "268    46\n",
      "269    90\n",
      "270    46\n",
      "271    74\n",
      "Name: Ew, dtype: int64\n"
     ]
    },
    {
     "data": {
      "image/png": "[encoded data removed]",
      "text/plain": [
       "<matplotlib.figure.Figure at 0x7feb704443d0>"
      ]
     },
     "metadata": {},
     "output_type": "display_data"
    },
    {
     "data": {
      "image/png": "[encoded data removed]",
      "text/plain": [
       "<matplotlib.figure.Figure at 0x7feb70444590>"
      ]
     },
     "metadata": {},
     "output_type": "display_data"
    }
   ],
   "source": [
    "import pandas as pd\n",
    "import matplotlib.pyplot as plt\n",
    "d=pd.read_csv('https://people.sc.fsu.edu/~jburkardt/data/csv/faithful.csv')\n",
    "print d.columns\n",
    "#\n",
    "# re-set column names\n",
    "d.columns=['Index','El','Ew']\n",
    "print d.Ew\n",
    "# make plots\n",
    "d.El.plot.hist()\n",
    "d.plot.scatter('Ew','El')\n",
    "\n",
    "plt.show()"
   ]
  },
  {
   "cell_type": "code",
   "execution_count": 11,
   "metadata": {
    "collapsed": false
   },
   "outputs": [],
   "source": [
    "plt.show()"
   ]
  },
  {
   "cell_type": "code",
   "execution_count": 15,
   "metadata": {
    "collapsed": false
   },
   "outputs": [
    {
     "name": "stdout",
     "output_type": "stream",
     "text": [
      "Your autism levels are: 96\n"
     ]
    }
   ],
   "source": [
    "def autismo(age,intensity):\n",
    "    return age*intensity\n",
    "\n",
    "print \"Your autism levels are:\", autismo(24,4)"
   ]
  },
  {
   "cell_type": "code",
   "execution_count": null,
   "metadata": {
    "collapsed": true
   },
   "outputs": [],
   "source": []
  }
 ],
 "metadata": {
  "kernelspec": {
   "display_name": "Python 2",
   "language": "python",
   "name": "python2"
  },
  "language_info": {
   "codemirror_mode": {
    "name": "ipython",
    "version": 2
   },
   "file_extension": ".py",
   "mimetype": "text/x-python",
   "name": "python",
   "nbconvert_exporter": "python",
   "pygments_lexer": "ipython2",
   "version": "2.7.12"
  }
 },
 "nbformat": 4,
 "nbformat_minor": 2
}
