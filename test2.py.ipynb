{
 "cells": [
  {
   "cell_type": "code",
   "execution_count": 22,
   "metadata": {
    "collapsed": false
   },
   "outputs": [
    {
     "name": "stdout",
     "output_type": "stream",
     "text": [
      "[[2, 5, 5], [2, 7, 2], [2, 3, 2]]\n",
      "[[-0.33333333 -0.20833333  1.04166667]\n",
      " [ 0.          0.25       -0.25      ]\n",
      " [ 0.33333333 -0.16666667 -0.16666667]]\n"
     ]
    }
   ],
   "source": [
    "import numpy as np\n",
    "import pylab as pl\n",
    "from numpy.linalg import inv\n",
    "\n",
    "a=([[2,5,5],[2,7,2],[2,3,2]])\n",
    "\n",
    "inva = inv(a)\n",
    "\n",
    "print a\n",
    "print inva\n"
   ]
  },
  {
   "cell_type": "code",
   "execution_count": null,
   "metadata": {
    "collapsed": true
   },
   "outputs": [],
   "source": []
  }
 ],
 "metadata": {
  "kernelspec": {
   "display_name": "Python 2",
   "language": "python",
   "name": "python2"
  },
  "language_info": {
   "codemirror_mode": {
    "name": "ipython",
    "version": 2
   },
   "file_extension": ".py",
   "mimetype": "text/x-python",
   "name": "python",
   "nbconvert_exporter": "python",
   "pygments_lexer": "ipython2",
   "version": "2.7.12"
  }
 },
 "nbformat": 4,
 "nbformat_minor": 2
}
